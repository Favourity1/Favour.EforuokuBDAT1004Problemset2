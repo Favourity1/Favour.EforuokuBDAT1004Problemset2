{
 "cells": [
  {
   "cell_type": "code",
   "execution_count": null,
   "metadata": {},
   "outputs": [],
   "source": [
    "Problem set 2"
   ]
  },
  {
   "cell_type": "code",
   "execution_count": 12,
   "metadata": {},
   "outputs": [],
   "source": [
    "#Question One\n",
    "a = 0\n",
    "def b():\n",
    " global a\n",
    " a = c(a)\n",
    "def c(a):\n",
    " return a + 2\n"
   ]
  },
  {
   "cell_type": "code",
   "execution_count": 13,
   "metadata": {},
   "outputs": [],
   "source": [
    "b()"
   ]
  },
  {
   "cell_type": "code",
   "execution_count": 14,
   "metadata": {},
   "outputs": [],
   "source": [
    "b()"
   ]
  },
  {
   "cell_type": "code",
   "execution_count": 15,
   "metadata": {},
   "outputs": [],
   "source": [
    "b()"
   ]
  },
  {
   "cell_type": "code",
   "execution_count": 16,
   "metadata": {},
   "outputs": [
    {
     "data": {
      "text/plain": [
       "6"
      ]
     },
     "execution_count": 16,
     "metadata": {},
     "output_type": "execute_result"
    }
   ],
   "source": [
    "a"
   ]
  },
  {
   "cell_type": "code",
   "execution_count": null,
   "metadata": {},
   "outputs": [],
   "source": [
    "# when global a=0, the function  c(a) which is to return a+2 will then be 0+2=2,\n",
    "#for each b(), there will be additional 2 added to the output which then gives the final output as 6"
   ]
  },
  {
   "cell_type": "code",
   "execution_count": null,
   "metadata": {},
   "outputs": [],
   "source": []
  },
  {
   "cell_type": "code",
   "execution_count": null,
   "metadata": {},
   "outputs": [],
   "source": [
    "#Question 4\n",
    "from tkinter import Tk, Label, RAISED\n",
    "root = Tk()\n",
    "labels = [['MC', 'M+', 'M-', 'MR'],\n",
    "\n",
    "          ['C' , '\\u221a', 'x\\u00b2', '+' ],\n",
    "\n",
    "          ['7' , '8' , '9' , '-' ],\n",
    "\n",
    "          ['4' , '5' , '6' , '*' ],\n",
    "\n",
    "          ['1' , '2' , '3' , '/' ],\n",
    "\n",
    "          ['0' , '.' , '+-', '=' ]]\n",
    "\n",
    "for r in range(6):\n",
    "    for c in range(4):\n",
    "        label = Label(root,\n",
    "                      relief=RAISED,\n",
    "                      padx=10,\n",
    "                      text=labels[r] [c])\n",
    "        label.grid(row=r, column =c)\n",
    "root.mainloop()"
   ]
  },
  {
   "cell_type": "code",
   "execution_count": null,
   "metadata": {},
   "outputs": [],
   "source": [
    "from tkinter import *\n",
    "root = Tk()\n",
    "a = Label(root, text= 'Loan Amount:')\n",
    "a.grid(row = 1)\n",
    "\n",
    " b = Entry(root)\n",
    "\n",
    " b.grid (row=1, column = 1)\n",
    "\n",
    "\n",
    "\n",
    "root.mainloop()"
   ]
  },
  {
   "cell_type": "code",
   "execution_count": 3,
   "metadata": {},
   "outputs": [
    {
     "name": "stdout",
     "output_type": "stream",
     "text": [
      "1\n",
      "10 5 16 8 4 2 1\n"
     ]
    }
   ],
   "source": [
    "#Question 5\n",
    "# Collatz  \n",
    " \n",
    "def printCollatz(Q):\n",
    " # function stop when the sequence gets to number 1\n",
    "    while Q != 1:\n",
    "        print(Q, end = ' ')\n",
    " \n",
    "        # If Q is odd\n",
    "        if Q & 1:\n",
    "            Q = 3 * Q + 1\n",
    " \n",
    "        # If even\n",
    "        else:\n",
    "            Q = Q // 2\n",
    " \n",
    "    # Print 1 at the end\n",
    "    print(Q)\n",
    " \n",
    "#Calling Collatz(1)  \n",
    "printCollatz(1)\n",
    "printCollatz(10)\n",
    "\n"
   ]
  },
  {
   "cell_type": "code",
   "execution_count": null,
   "metadata": {},
   "outputs": [],
   "source": []
  },
  {
   "cell_type": "code",
   "execution_count": null,
   "metadata": {},
   "outputs": [],
   "source": [
    "#Question 6\n",
    "#Write a recursive method binary() that takes a non-negative\n",
    "integer n and prints the binary representation of integer n.\n",
    ">>> binary(0)\n",
    "0\n",
    ">>> binary(1)\n",
    "1\n",
    ">>> binary(3)\n",
    "11\n",
    ">>> binary(9)\n",
    "1001\n"
   ]
  },
  {
   "cell_type": "code",
   "execution_count": 28,
   "metadata": {},
   "outputs": [
    {
     "name": "stdout",
     "output_type": "stream",
     "text": [
      "0\n",
      "1\n",
      "11\n",
      "1001\n"
     ]
    }
   ],
   "source": [
    "# Python program to convert non-negative integer to binary \n",
    "    \n",
    "# Function to convert non-negative integer to Binary number \n",
    "\n",
    "def decimalToBinary(n):  \n",
    "    return bin(n).replace(\"0b\", \"\")  \n",
    "    \n",
    "# Driver code  \n",
    "if __name__ == '__main__':  \n",
    "    print(decimalToBinary(0))  \n",
    "    print(decimalToBinary(1))  \n",
    "    print(decimalToBinary(3)) \n",
    "    print(decimalToBinary(9)) "
   ]
  },
  {
   "cell_type": "code",
   "execution_count": null,
   "metadata": {},
   "outputs": [],
   "source": []
  },
  {
   "cell_type": "code",
   "execution_count": null,
   "metadata": {},
   "outputs": [],
   "source": []
  },
  {
   "cell_type": "markdown",
   "metadata": {},
   "source": [
    "#Question 9"
   ]
  },
  {
   "cell_type": "code",
   "execution_count": 4,
   "metadata": {},
   "outputs": [],
   "source": [
    "# start up SQL with the simple command\n",
    "%load_ext sql"
   ]
  },
  {
   "cell_type": "code",
   "execution_count": 5,
   "metadata": {},
   "outputs": [],
   "source": [
    "%sql sqlite://"
   ]
  },
  {
   "cell_type": "code",
   "execution_count": 6,
   "metadata": {},
   "outputs": [
    {
     "name": "stdout",
     "output_type": "stream",
     "text": [
      " * sqlite://\n",
      "Done.\n",
      "1 rows affected.\n",
      "1 rows affected.\n",
      "1 rows affected.\n",
      "1 rows affected.\n",
      "1 rows affected.\n",
      "1 rows affected.\n",
      "1 rows affected.\n",
      "1 rows affected.\n",
      "1 rows affected.\n",
      "1 rows affected.\n",
      "1 rows affected.\n",
      "1 rows affected.\n"
     ]
    },
    {
     "data": {
      "text/plain": [
       "[]"
      ]
     },
     "execution_count": 6,
     "metadata": {},
     "output_type": "execute_result"
    }
   ],
   "source": [
    "%%sql\n",
    "CREATE TABLE INDIANDATA(City varchar(50), Country varchar(50), Season varchar(50), Temperature, Rainfall);\n",
    "INSERT INTO INDIANDATA VALUES('Mumbai','India','Winter', 24.8, 5.9);\n",
    "INSERT INTO INDIANDATA VALUES('Mumbai','India','Spring', 28.4,16.2);\n",
    "INSERT INTO INDIANDATA VALUES('Mumbai','India','Summer',27.9, 1549.4);\n",
    "INSERT INTO INDIANDATA VALUES('Mumbai','India','Fall', 27.6, 346.0);\n",
    "INSERT INTO INDIANDATA VALUES('London','United Kingdom','Winter', 4.2, 207.7);\n",
    "INSERT INTO INDIANDATA VALUES('London','United Kingdom','Spring', 8.3, 169.6);\n",
    "INSERT INTO INDIANDATA VALUES('London','United Kingdom','Summer', 15.7, 157.0);\n",
    "INSERT INTO INDIANDATA VALUES('London','United Kingdom','Fall', 10.4, 218.5);\n",
    "INSERT INTO INDIANDATA VALUES('Cario','Egypt','Winter', 13.6, 16.5);\n",
    "INSERT INTO INDIANDATA VALUES('Cario','Egypt','Spring', 20.7, 6.5);\n",
    "INSERT INTO INDIANDATA VALUES('Cario','Egypt','Summer', 27.7, 0.1);\n",
    "INSERT INTO INDIANDATA VALUES('Cario','Egypt','Fall', 22.2, 4.5);"
   ]
  },
  {
   "cell_type": "code",
   "execution_count": 42,
   "metadata": {},
   "outputs": [
    {
     "name": "stdout",
     "output_type": "stream",
     "text": [
      " * sqlite://\n",
      "Done.\n"
     ]
    },
    {
     "data": {
      "text/html": [
       "<table>\n",
       "    <tr>\n",
       "        <th>City</th>\n",
       "        <th>Country</th>\n",
       "        <th>Season</th>\n",
       "        <th>Temperature</th>\n",
       "        <th>Rainfall</th>\n",
       "    </tr>\n",
       "    <tr>\n",
       "        <td>Mumbai</td>\n",
       "        <td>India</td>\n",
       "        <td>Winter</td>\n",
       "        <td>24.8</td>\n",
       "        <td>5.9</td>\n",
       "    </tr>\n",
       "    <tr>\n",
       "        <td>Mumbai</td>\n",
       "        <td>India</td>\n",
       "        <td>Spring</td>\n",
       "        <td>28.4</td>\n",
       "        <td>16.2</td>\n",
       "    </tr>\n",
       "    <tr>\n",
       "        <td>Mumbai</td>\n",
       "        <td>India</td>\n",
       "        <td>Summer</td>\n",
       "        <td>27.9</td>\n",
       "        <td>1549.4</td>\n",
       "    </tr>\n",
       "    <tr>\n",
       "        <td>Mumbai</td>\n",
       "        <td>India</td>\n",
       "        <td>Fall</td>\n",
       "        <td>27.6</td>\n",
       "        <td>346.0</td>\n",
       "    </tr>\n",
       "    <tr>\n",
       "        <td>London</td>\n",
       "        <td>United Kingdom</td>\n",
       "        <td>Winter</td>\n",
       "        <td>4.2</td>\n",
       "        <td>207.7</td>\n",
       "    </tr>\n",
       "    <tr>\n",
       "        <td>London</td>\n",
       "        <td>United Kingdom</td>\n",
       "        <td>Spring</td>\n",
       "        <td>8.3</td>\n",
       "        <td>169.6</td>\n",
       "    </tr>\n",
       "    <tr>\n",
       "        <td>London</td>\n",
       "        <td>United Kingdom</td>\n",
       "        <td>Summer</td>\n",
       "        <td>15.7</td>\n",
       "        <td>157.0</td>\n",
       "    </tr>\n",
       "    <tr>\n",
       "        <td>London</td>\n",
       "        <td>United Kingdom</td>\n",
       "        <td>Fall</td>\n",
       "        <td>10.4</td>\n",
       "        <td>218.5</td>\n",
       "    </tr>\n",
       "    <tr>\n",
       "        <td>Cario</td>\n",
       "        <td>Egypt</td>\n",
       "        <td>Winter</td>\n",
       "        <td>13.6</td>\n",
       "        <td>16.5</td>\n",
       "    </tr>\n",
       "    <tr>\n",
       "        <td>Cario</td>\n",
       "        <td>Egypt</td>\n",
       "        <td>Spring</td>\n",
       "        <td>20.7</td>\n",
       "        <td>6.5</td>\n",
       "    </tr>\n",
       "    <tr>\n",
       "        <td>Cario</td>\n",
       "        <td>Egypt</td>\n",
       "        <td>Summer</td>\n",
       "        <td>27.7</td>\n",
       "        <td>0.1</td>\n",
       "    </tr>\n",
       "    <tr>\n",
       "        <td>Cario</td>\n",
       "        <td>Egypt</td>\n",
       "        <td>Fall</td>\n",
       "        <td>22.2</td>\n",
       "        <td>4.5</td>\n",
       "    </tr>\n",
       "</table>"
      ],
      "text/plain": [
       "[('Mumbai', 'India', 'Winter', '24.8', '5.9'),\n",
       " ('Mumbai', 'India', 'Spring', '28.4', '16.2'),\n",
       " ('Mumbai', 'India', 'Summer', '27.9', '1549.4'),\n",
       " ('Mumbai', 'India', 'Fall', '27.6', '346.0'),\n",
       " ('London', 'United Kingdom', 'Winter', '4.2', '207.7'),\n",
       " ('London', 'United Kingdom', 'Spring', '8.3', '169.6'),\n",
       " ('London', 'United Kingdom', 'Summer', '15.7', '157.0'),\n",
       " ('London', 'United Kingdom', 'Fall', '10.4', '218.5'),\n",
       " ('Cario', 'Egypt', 'Winter', '13.6', '16.5'),\n",
       " ('Cario', 'Egypt', 'Spring', '20.7', '6.5'),\n",
       " ('Cario', 'Egypt', 'Summer', '27.7', '0.1'),\n",
       " ('Cario', 'Egypt', 'Fall', '22.2', '4.5')]"
      ]
     },
     "execution_count": 42,
     "metadata": {},
     "output_type": "execute_result"
    }
   ],
   "source": [
    "#lsit of Table\n",
    "%sql SELECT * from INDIANDATA;"
   ]
  },
  {
   "cell_type": "code",
   "execution_count": 46,
   "metadata": {},
   "outputs": [
    {
     "name": "stdout",
     "output_type": "stream",
     "text": [
      " * sqlite://\n",
      "Done.\n"
     ]
    },
    {
     "data": {
      "text/html": [
       "<table>\n",
       "    <tr>\n",
       "        <th>City</th>\n",
       "        <th>Country</th>\n",
       "        <th>Season</th>\n",
       "        <th>Temperature</th>\n",
       "        <th>Rainfall</th>\n",
       "    </tr>\n",
       "    <tr>\n",
       "        <td>Mumbai</td>\n",
       "        <td>India</td>\n",
       "        <td>Winter</td>\n",
       "        <td>24.8</td>\n",
       "        <td>5.9</td>\n",
       "    </tr>\n",
       "    <tr>\n",
       "        <td>Mumbai</td>\n",
       "        <td>India</td>\n",
       "        <td>Spring</td>\n",
       "        <td>28.4</td>\n",
       "        <td>16.2</td>\n",
       "    </tr>\n",
       "    <tr>\n",
       "        <td>Mumbai</td>\n",
       "        <td>India</td>\n",
       "        <td>Summer</td>\n",
       "        <td>27.9</td>\n",
       "        <td>1549.4</td>\n",
       "    </tr>\n",
       "    <tr>\n",
       "        <td>Mumbai</td>\n",
       "        <td>India</td>\n",
       "        <td>Fall</td>\n",
       "        <td>27.6</td>\n",
       "        <td>346.0</td>\n",
       "    </tr>\n",
       "</table>"
      ],
      "text/plain": [
       "[('Mumbai', 'India', 'Winter', '24.8', '5.9'),\n",
       " ('Mumbai', 'India', 'Spring', '28.4', '16.2'),\n",
       " ('Mumbai', 'India', 'Summer', '27.9', '1549.4'),\n",
       " ('Mumbai', 'India', 'Fall', '27.6', '346.0')]"
      ]
     },
     "execution_count": 46,
     "metadata": {},
     "output_type": "execute_result"
    }
   ],
   "source": [
    "%sql SELECT * from INDIANDATA WHERE Country = 'India';"
   ]
  },
  {
   "cell_type": "code",
   "execution_count": 47,
   "metadata": {},
   "outputs": [
    {
     "name": "stdout",
     "output_type": "stream",
     "text": [
      " * sqlite://\n",
      "Done.\n"
     ]
    },
    {
     "data": {
      "text/html": [
       "<table>\n",
       "    <tr>\n",
       "        <th>City</th>\n",
       "    </tr>\n",
       "    <tr>\n",
       "        <td>Mumbai</td>\n",
       "    </tr>\n",
       "    <tr>\n",
       "        <td>London</td>\n",
       "    </tr>\n",
       "    <tr>\n",
       "        <td>Cario</td>\n",
       "    </tr>\n",
       "</table>"
      ],
      "text/plain": [
       "[('Mumbai',), ('London',), ('Cario',)]"
      ]
     },
     "execution_count": 47,
     "metadata": {},
     "output_type": "execute_result"
    }
   ],
   "source": [
    "#All the cities, but without repetition\n",
    "%sql SELECT DISTINCT City from INDIANDATA "
   ]
  },
  {
   "cell_type": "code",
   "execution_count": 49,
   "metadata": {},
   "outputs": [
    {
     "name": "stdout",
     "output_type": "stream",
     "text": [
      " * sqlite://\n",
      "Done.\n"
     ]
    },
    {
     "data": {
      "text/html": [
       "<table>\n",
       "    <tr>\n",
       "        <th>City</th>\n",
       "        <th>Country</th>\n",
       "        <th>Season</th>\n",
       "        <th>Temperature</th>\n",
       "        <th>Rainfall</th>\n",
       "    </tr>\n",
       "    <tr>\n",
       "        <td>Mumbai</td>\n",
       "        <td>India</td>\n",
       "        <td>Fall</td>\n",
       "        <td>27.6</td>\n",
       "        <td>346.0</td>\n",
       "    </tr>\n",
       "    <tr>\n",
       "        <td>London</td>\n",
       "        <td>United Kingdom</td>\n",
       "        <td>Fall</td>\n",
       "        <td>10.4</td>\n",
       "        <td>218.5</td>\n",
       "    </tr>\n",
       "    <tr>\n",
       "        <td>Cario</td>\n",
       "        <td>Egypt</td>\n",
       "        <td>Fall</td>\n",
       "        <td>22.2</td>\n",
       "        <td>4.5</td>\n",
       "    </tr>\n",
       "</table>"
      ],
      "text/plain": [
       "[('Mumbai', 'India', 'Fall', '27.6', '346.0'),\n",
       " ('London', 'United Kingdom', 'Fall', '10.4', '218.5'),\n",
       " ('Cario', 'Egypt', 'Fall', '22.2', '4.5')]"
      ]
     },
     "execution_count": 49,
     "metadata": {},
     "output_type": "execute_result"
    }
   ],
   "source": [
    "#All the Fall records\n",
    "%sql SELECT * from INDIANDATA WHERE Season = 'Fall';"
   ]
  },
  {
   "cell_type": "code",
   "execution_count": 9,
   "metadata": {},
   "outputs": [
    {
     "name": "stdout",
     "output_type": "stream",
     "text": [
      " * sqlite://\n",
      "Done.\n"
     ]
    },
    {
     "data": {
      "text/html": [
       "<table>\n",
       "    <tr>\n",
       "        <th>City</th>\n",
       "        <th>Country</th>\n",
       "        <th>Season</th>\n",
       "    </tr>\n",
       "    <tr>\n",
       "        <td>Mumbai</td>\n",
       "        <td>India</td>\n",
       "        <td>Fall</td>\n",
       "    </tr>\n",
       "    <tr>\n",
       "        <td>London</td>\n",
       "        <td>United Kingdom</td>\n",
       "        <td>Winter</td>\n",
       "    </tr>\n",
       "    <tr>\n",
       "        <td>London</td>\n",
       "        <td>United Kingdom</td>\n",
       "        <td>Fall</td>\n",
       "    </tr>\n",
       "</table>"
      ],
      "text/plain": [
       "[('Mumbai', 'India', 'Fall'),\n",
       " ('London', 'United Kingdom', 'Winter'),\n",
       " ('London', 'United Kingdom', 'Fall')]"
      ]
     },
     "execution_count": 9,
     "metadata": {},
     "output_type": "execute_result"
    }
   ],
   "source": [
    "#The city, country, and season for which the average rainfall is between 200 and 400 millimeters\n",
    "%sql SELECT City, Country, Season from INDIANDATA WHERE Rainfall BETWEEN 200 AND 400"
   ]
  },
  {
   "cell_type": "code",
   "execution_count": null,
   "metadata": {},
   "outputs": [],
   "source": [
    "%sql SELECT "
   ]
  },
  {
   "cell_type": "code",
   "execution_count": 23,
   "metadata": {},
   "outputs": [
    {
     "name": "stdout",
     "output_type": "stream",
     "text": [
      " * sqlite://\n",
      "(sqlite3.OperationalError) no such column: Fall\n",
      "[SQL: SELECT City, Country from INDIANDATA WHERE Season(Fall) AND Temperature >= 20 ORDER BY Temperature]\n",
      "(Background on this error at: http://sqlalche.me/e/13/e3q8)\n"
     ]
    }
   ],
   "source": [
    "#9f\n",
    "%sql SELECT City, Country from INDIANDATA WHERE Season AND Temperature >= \"20\" ORDER BY Temperature"
   ]
  },
  {
   "cell_type": "code",
   "execution_count": null,
   "metadata": {},
   "outputs": [],
   "source": [
    "%sql SELECT City, Country from INDIANDATA WHERE Season = \"Fall\" AND Temperature >= \"20\" ORDER BY Temperature"
   ]
  },
  {
   "cell_type": "code",
   "execution_count": 18,
   "metadata": {},
   "outputs": [
    {
     "name": "stdout",
     "output_type": "stream",
     "text": [
      " * sqlite://\n",
      "(sqlite3.OperationalError) no such column: Cairo\n",
      "[SQL: SELECT SUM (Rainfall),City from INDIANDATA WHERE City =Cairo]\n",
      "(Background on this error at: http://sqlalche.me/e/13/e3q8)\n"
     ]
    }
   ],
   "source": [
    "#9g\n",
    "%sql SELECT SUM (Rainfall),City from INDIANDATA WHERE City =\"Cairo\""
   ]
  },
  {
   "cell_type": "code",
   "execution_count": 22,
   "metadata": {},
   "outputs": [
    {
     "ename": "SyntaxError",
     "evalue": "invalid syntax (<ipython-input-22-9c13d1fc6f89>, line 2)",
     "output_type": "error",
     "traceback": [
      "\u001b[1;36m  File \u001b[1;32m\"<ipython-input-22-9c13d1fc6f89>\"\u001b[1;36m, line \u001b[1;32m2\u001b[0m\n\u001b[1;33m    SELECT SUM (Rainfall),Season FROM INDIANDATA GROUP BY Season\u001b[0m\n\u001b[1;37m           ^\u001b[0m\n\u001b[1;31mSyntaxError\u001b[0m\u001b[1;31m:\u001b[0m invalid syntax\n"
     ]
    }
   ],
   "source": [
    "#9h\n",
    "SELECT SUM (Rainfall),Season FROM INDIANDATA GROUP BY Season"
   ]
  },
  {
   "cell_type": "code",
   "execution_count": null,
   "metadata": {},
   "outputs": [],
   "source": [
    "%sql SELECT SUM from INDIANDATA, \n",
    "SUM (advance_amount) \n",
    "FROM orders \n",
    "GROUP BY agent_code;"
   ]
  },
  {
   "cell_type": "code",
   "execution_count": null,
   "metadata": {},
   "outputs": [],
   "source": [
    "#Question 10\n",
    "#Question 10\n",
    ". Suppose list words is defined as follows:\n",
    ">>> words = ['The', 'quick', 'brown', 'fox', 'jumps', 'over',\n",
    "'the', 'lazy', 'dog']\n",
    "Write list comprehension expressions that use list words and generate the following\n",
    "lists:\n",
    "a) ['THE', 'QUICK', 'BROWN', 'FOX', 'JUMPS', 'OVER', 'THE',\n",
    "'LAZY', 'DOG']\n"
   ]
  },
  {
   "cell_type": "code",
   "execution_count": null,
   "metadata": {},
   "outputs": [],
   "source": []
  },
  {
   "cell_type": "code",
   "execution_count": 18,
   "metadata": {},
   "outputs": [
    {
     "name": "stdout",
     "output_type": "stream",
     "text": [
      "['THE', 'QUICK', 'BROWN', 'FOX', 'JUMPS', 'OVER', 'THE', 'LAZY', 'DOG']\n"
     ]
    }
   ],
   "source": [
    "word=['The', 'quick', 'brown', 'fox', 'jumps', 'over','the', 'lazy', 'dog']\n",
    "Caps = []\n",
    "\n",
    "for the in word:\n",
    "    Caps.append(the.upper())\n",
    "    \n",
    "print(Caps)"
   ]
  },
  {
   "cell_type": "code",
   "execution_count": 20,
   "metadata": {},
   "outputs": [
    {
     "name": "stdout",
     "output_type": "stream",
     "text": [
      "['the', 'quick', 'brown', 'fox', 'jumps', 'over', 'the', 'lazy', 'dog']\n"
     ]
    }
   ],
   "source": [
    "word=['The', 'quick', 'brown', 'fox', 'jumps', 'over','the', 'lazy', 'dog']\n",
    "Lower = []\n",
    "\n",
    "for the in word:\n",
    "    Lower.append(the.lower())\n",
    "    \n",
    "print(Lower)"
   ]
  },
  {
   "cell_type": "code",
   "execution_count": 19,
   "metadata": {},
   "outputs": [
    {
     "name": "stdout",
     "output_type": "stream",
     "text": [
      "[3, 5, 5, 3, 5, 4, 3, 4, 3]\n"
     ]
    }
   ],
   "source": [
    "words = ['The', 'quick', 'brown', 'fox', 'jumps', 'over', 'the', 'lazy', 'dog']\n",
    "\n",
    "Length = []\n",
    "\n",
    "for the in word:\n",
    "    Length.append(len(the))\n",
    "    \n",
    "print(Length)"
   ]
  },
  {
   "cell_type": "code",
   "execution_count": 24,
   "metadata": {},
   "outputs": [
    {
     "data": {
      "text/plain": [
       "[['THE', 'the', 3],\n",
       " ['QUICK', 'quick', 5],\n",
       " ['BROWN', 'brown', 5],\n",
       " ['FOX', 'fox', 3],\n",
       " ['JUMPS', 'jumps', 5],\n",
       " ['OVER', 'over', 4],\n",
       " ['THE', 'the', 3],\n",
       " ['LAZY', 'lazy', 4],\n",
       " ['DOG', 'dog', 3],\n",
       " ['THE', 'the', 3],\n",
       " ['QUICK', 'quick', 5],\n",
       " ['BROWN', 'brown', 5],\n",
       " ['FOX', 'fox', 3],\n",
       " ['JUMPS', 'jumps', 5],\n",
       " ['OVER', 'over', 4],\n",
       " ['THE', 'the', 3],\n",
       " ['LAZY', 'lazy', 4],\n",
       " ['DOG', 'dog', 3],\n",
       " ['THE', 'the', 3],\n",
       " ['QUICK', 'quick', 5],\n",
       " ['BROWN', 'brown', 5],\n",
       " ['FOX', 'fox', 3],\n",
       " ['JUMPS', 'jumps', 5],\n",
       " ['OVER', 'over', 4],\n",
       " ['THE', 'the', 3],\n",
       " ['LAZY', 'lazy', 4],\n",
       " ['DOG', 'dog', 3]]"
      ]
     },
     "execution_count": 24,
     "metadata": {},
     "output_type": "execute_result"
    }
   ],
   "source": [
    " list(map(list, zip(Caps,Lower,Length)))"
   ]
  },
  {
   "cell_type": "code",
   "execution_count": 34,
   "metadata": {},
   "outputs": [
    {
     "name": "stdout",
     "output_type": "stream",
     "text": [
      "['quick', 'brown', 'jumps', 'over', 'lazy']\n"
     ]
    }
   ],
   "source": [
    "LengthFour = []\n",
    "\n",
    "for the in word:\n",
    "    if len(the)>=4:\n",
    "     LengthFour.append(the)\n",
    "    \n",
    "print(LengthFour)"
   ]
  },
  {
   "cell_type": "code",
   "execution_count": null,
   "metadata": {},
   "outputs": [],
   "source": []
  }
 ],
 "metadata": {
  "kernelspec": {
   "display_name": "Python 3",
   "language": "python",
   "name": "python3"
  },
  "language_info": {
   "codemirror_mode": {
    "name": "ipython",
    "version": 3
   },
   "file_extension": ".py",
   "mimetype": "text/x-python",
   "name": "python",
   "nbconvert_exporter": "python",
   "pygments_lexer": "ipython3",
   "version": "3.8.3"
  }
 },
 "nbformat": 4,
 "nbformat_minor": 4
}
